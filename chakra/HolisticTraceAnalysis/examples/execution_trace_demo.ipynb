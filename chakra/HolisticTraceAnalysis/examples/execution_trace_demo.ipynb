{
 "cells": [
  {
   "cell_type": "markdown",
   "id": "97c89633",
   "metadata": {},
   "source": [
    "# Execution Trace Demo"
   ]
  },
  {
   "cell_type": "markdown",
   "id": "efc483cd",
   "metadata": {},
   "source": [
    "## About\n",
    "\n",
    "PyTorch Execution Trace is a reference implementation of the open standard MLCommons - Chakra project\n",
    "The Execution Trace aims to collect semantic information of a PyTorch model execution.\n",
    "\n",
    "It essentially is a graph with nodes representing either Operators or Tensors.\n",
    "1. Operator nodes contain information of input/output Tensors, input/output shapes, and parent-child relationships.\n",
    "1. Tensor nodes include shape, type and storage information.\n",
    "\n",
    "Combining Execution Trace with the timing information in PyTorch trace we can develop sophisticated critical path and anti-pattern analysis.\n",
    "\n",
    "### Python API to collect Execution Trace\n",
    "The `ExecutionTraceObserver` collects Execution Traces. Each process can have a single `ExecutionTraceObserver` instance. \n",
    "1. One can register a callback function to save the Execution Trace to file by calling `register_callback(output_file_path)`. Note that `output_file_path` should be unique for each process/rank.\n",
    "1. Once an `ExecutionTraceObserver` is created, the `start()` and `stop()` methods control when the event data is recorded.\n",
    "1. Deleting or calling `unregister_callback()` will unlink the observer and will stop incurring any overheads.\n",
    "\n",
    "In the following example, we create an ET observer object explicitly. This allows us to control when to start or stop capturing the execution trace. \n",
    "\n",
    "```\n",
    "from torch.profiler import ExecutionTraceObserver\n",
    "\n",
    "# Create a temp file to save execution trace data.\n",
    "fp = tempfile.NamedTemporaryFile('w+t', suffix='.json', delete=False)\n",
    "fp.close()\n",
    "\n",
    "et = ExecutionTraceObserver()\n",
    "et.register_callback(fp.name)\n",
    "\n",
    "for idx in range(10):\n",
    "    if idx == 3:\n",
    "        et.start()\n",
    "    elif idx == 5:\n",
    "        et.stop()\n",
    "        et.unregister_callback()\n",
    "    with record_function(f\"## LOOP {idx} ##\"):\n",
    "        payload(use_cuda=use_cuda)\n",
    "\n",
    "assert fp.name == et.get_output_file_path()\n",
    "```\n",
    "\n",
    "One fine detail is that it’s a good practice to always start or stop capturing at the beginning of an iteration. This allows certain objects (for example record_function()) to go out of scope from the previous iteration and the corresponding exit callback is called.\n",
    "\n",
    "\n",
    "### Correlating Execution Trace and Kineto Trace\n",
    "\n",
    "We can correlate semantic information in Execution Trace with the PyTorch/Kineto Trace. Collecting PyTorch trace is covered in the official PyTorch recipe [here](https://pytorch.org/tutorials/recipes/recipes/profiler_recipe.html).\n",
    "\n",
    "There are two cases we handle\n",
    "1. ET and PyTorch Trace are collected at the same time. In this case the tensor information will be most accurate but ET collection could add overhead to the collected trace.\n",
    "1. ET and PyTorch Trace are collected at different time intervals. The two traces can still be correlated but it assumes similar behavior from iteration to iteration.\n",
    "\n",
    "At the moment the `execution_trace` module only works for case (1) above i.e. both traces are collected simultaneously. These example traces can be found in `tests/data/execution_trace/`"
   ]
  },
  {
   "cell_type": "code",
   "execution_count": 1,
   "id": "555a5eea",
   "metadata": {},
   "outputs": [],
   "source": [
    "from hta.trace_analysis import TraceAnalysis"
   ]
  },
  {
   "cell_type": "code",
   "execution_count": 2,
   "id": "d4165c18",
   "metadata": {},
   "outputs": [],
   "source": [
    "from hta.common import execution_trace"
   ]
  },
  {
   "cell_type": "markdown",
   "id": "194cad35",
   "metadata": {},
   "source": [
    "## Load Kineto traces and Execution Trace"
   ]
  },
  {
   "cell_type": "markdown",
   "id": "08f42fcd",
   "metadata": {},
   "source": [
    "__<font color='red'>\n",
    "Note: To run the notebook, ensure that the path to the HolisticTraceAnalysis repo is set appropriately in the `trace_dir` variable below.\n",
    "</font>__"
   ]
  },
  {
   "cell_type": "code",
   "execution_count": 3,
   "id": "63580d26",
   "metadata": {
    "scrolled": true
   },
   "outputs": [
    {
     "name": "stdout",
     "output_type": "stream",
     "text": [
      "2023-07-26 10:41:32,146 - hta - trace.py:L404 - INFO - /Users/bcoutinho/Work/hta/HolisticTraceAnalysis2/tests/data/execution_trace\n",
      "2023-07-26 10:41:32,150 - hta - trace_file.py:L61 - ERROR - If the trace file does not have the rank specified in it, then add the following snippet key to the json files to use HTA; \"distributedInfo\": {\"rank\": 0}. If there are multiple traces files, then each file should have a unique rank value.\n",
      "2023-07-26 10:41:32,150 - hta - trace_file.py:L94 - INFO - Rank to trace file map:\n",
      "{0: '/Users/bcoutinho/Work/hta/HolisticTraceAnalysis2/tests/data/execution_trace/benchmark_simple_add_trace.json.gz'}\n",
      "2023-07-26 10:41:32,151 - hta - trace.py:L550 - INFO - ranks=[0]\n",
      "2023-07-26 10:41:32,152 - hta - trace.py:L132 - INFO - Parsed /Users/bcoutinho/Work/hta/HolisticTraceAnalysis2/tests/data/execution_trace/benchmark_simple_add_trace.json.gz time = 0.00 seconds \n",
      "2023-07-26 10:41:32,171 - hta - trace.py:L686 - WARNING - ProfilerStep not found in the trace. The analysis result may not be accurate.\n"
     ]
    }
   ],
   "source": [
    "trace_prefix = \"~/HolisticTraceAnalysis\"\n",
    "trace_dir = f\"{trace_prefix}/tests/data/execution_trace/\"\n",
    "analyzer = TraceAnalysis(trace_dir=trace_dir)"
   ]
  },
  {
   "cell_type": "code",
   "execution_count": 4,
   "id": "b28bd897",
   "metadata": {},
   "outputs": [
    {
     "name": "stdout",
     "output_type": "stream",
     "text": [
      "2023-07-26 10:41:32,177 - hta - execution_trace.py:L45 - INFO - Parsed Execution Trace file ~/Work/hta/HolisticTraceAnalysis2/tests/data/execution_trace/benchmark_simple_add_et.json.gz, time = 0.00 seconds \n"
     ]
    }
   ],
   "source": [
    "et = execution_trace.load_execution_trace(trace_dir + \"benchmark_simple_add_et.json.gz\")"
   ]
  },
  {
   "cell_type": "markdown",
   "id": "424a7a94",
   "metadata": {},
   "source": [
    "## Correlate Execution Trace and Kineto/PyTorch Profiler Trace\n",
    "\n",
    "This section uses the above Execution Trace object and HTA Trace object and correlates them.\n",
    "The final trace dataframe will now contain a `et_node` column that list the unique node ID in Execution Trace.\n",
    "Since, Execution Trace is mainly recorded on `user_annotations` and `cpu_op` events, these are the events that will an `et_node` annotated."
   ]
  },
  {
   "cell_type": "code",
   "execution_count": 5,
   "id": "b05e044e",
   "metadata": {},
   "outputs": [
    {
     "data": {
      "text/plain": [
       "\u001b[0;31mSignature:\u001b[0m\n",
       "\u001b[0mexecution_trace\u001b[0m\u001b[0;34m.\u001b[0m\u001b[0mcorrelate_execution_trace\u001b[0m\u001b[0;34m(\u001b[0m\u001b[0;34m\u001b[0m\n",
       "\u001b[0;34m\u001b[0m    \u001b[0mtrace\u001b[0m\u001b[0;34m:\u001b[0m \u001b[0mhta\u001b[0m\u001b[0;34m.\u001b[0m\u001b[0mcommon\u001b[0m\u001b[0;34m.\u001b[0m\u001b[0mtrace\u001b[0m\u001b[0;34m.\u001b[0m\u001b[0mTrace\u001b[0m\u001b[0;34m,\u001b[0m\u001b[0;34m\u001b[0m\n",
       "\u001b[0;34m\u001b[0m    \u001b[0mrank\u001b[0m\u001b[0;34m:\u001b[0m \u001b[0mint\u001b[0m\u001b[0;34m,\u001b[0m\u001b[0;34m\u001b[0m\n",
       "\u001b[0;34m\u001b[0m    \u001b[0met\u001b[0m\u001b[0;34m:\u001b[0m \u001b[0mparam\u001b[0m\u001b[0;34m.\u001b[0m\u001b[0mpython\u001b[0m\u001b[0;34m.\u001b[0m\u001b[0mtools\u001b[0m\u001b[0;34m.\u001b[0m\u001b[0mexecution_graph\u001b[0m\u001b[0;34m.\u001b[0m\u001b[0mExecutionGraph\u001b[0m\u001b[0;34m,\u001b[0m\u001b[0;34m\u001b[0m\n",
       "\u001b[0;34m\u001b[0m\u001b[0;34m)\u001b[0m \u001b[0;34m->\u001b[0m \u001b[0;32mNone\u001b[0m\u001b[0;34m\u001b[0m\u001b[0;34m\u001b[0m\u001b[0m\n",
       "\u001b[0;31mDocstring:\u001b[0m\n",
       "Correlate the trace from a specific rank with Execution Trace object.\n",
       "\n",
       "Args:\n",
       "    trace (Trace): Trace object loaded using `TraceAnalysis(trace_dir=trace_dir)`\n",
       "                    or other method.\n",
       "    rank (int): Rank to correlate with.\n",
       "    et (ExecutionGraph): An Execution Trace object to correlate with.\n",
       "\n",
       "Returns:\n",
       "    None\n",
       "\n",
       "Outcome is the trace dataframe for specified rank will have a new column\n",
       "'et_node' that includes the correlated node index in Execution Trace.\n",
       "\n",
       "We use two different approaches depending if the PyTorch and ET trace\n",
       "    1) Have overlap: correlation is done using record function ID.\n",
       "    2) Do not have overlap: correlation is done by comparing the two\n",
       "        trees using a graph edit distance similarity algorithm.\n",
       "\n",
       "Please note (2) is not supported yet and will come in future PRs.\n",
       "\u001b[0;31mFile:\u001b[0m      ~/Work/hta/HolisticTraceAnalysis2/hta/common/execution_trace.py\n",
       "\u001b[0;31mType:\u001b[0m      function"
      ]
     },
     "metadata": {},
     "output_type": "display_data"
    }
   ],
   "source": [
    "execution_trace.correlate_execution_trace?"
   ]
  },
  {
   "cell_type": "code",
   "execution_count": 6,
   "id": "40e3a849",
   "metadata": {},
   "outputs": [
    {
     "name": "stdout",
     "output_type": "stream",
     "text": [
      "2023-07-26 10:41:32,218 - root - execution_trace.py:L79 - INFO - Trace and ET have overlap = True\n",
      "2023-07-26 10:41:32,219 - root - execution_trace.py:L80 - INFO - Trace rf_ids (1, 83),ET rf_ids (1, 36)\n",
      "2023-07-26 10:41:32,219 - hta - execution_trace.py:L124 - INFO - Supported event type ('cat') symbols = [10, 19]\n"
     ]
    }
   ],
   "source": [
    "execution_trace.correlate_execution_trace(analyzer.t, 0, et)"
   ]
  },
  {
   "cell_type": "code",
   "execution_count": 7,
   "id": "01ba589b",
   "metadata": {},
   "outputs": [],
   "source": [
    "# Make a copy so that we can modify it and add symbols for readability\n",
    "trace_df = analyzer.t.get_trace(0).copy()\n",
    "analyzer.t.symbol_table.add_symbols_to_trace_df(trace_df, col='cat')\n",
    "analyzer.t.symbol_table.add_symbols_to_trace_df(trace_df, col='name')"
   ]
  },
  {
   "cell_type": "markdown",
   "id": "8975215f",
   "metadata": {},
   "source": [
    "## Use ET node information\n",
    "Now that `et_node` is known we can use it to index and correlate vital information from ET.\n",
    "One use case of ET is to get the input and output shapes and size information. \n",
    "The `add_et_column(...)` function can be used to achieve that."
   ]
  },
  {
   "cell_type": "code",
   "execution_count": 8,
   "id": "d66711b8",
   "metadata": {},
   "outputs": [
    {
     "data": {
      "text/plain": [
       "\u001b[0;31mSignature:\u001b[0m\n",
       "\u001b[0mexecution_trace\u001b[0m\u001b[0;34m.\u001b[0m\u001b[0madd_et_column\u001b[0m\u001b[0;34m(\u001b[0m\u001b[0;34m\u001b[0m\n",
       "\u001b[0;34m\u001b[0m    \u001b[0mtrace_df\u001b[0m\u001b[0;34m:\u001b[0m \u001b[0mpandas\u001b[0m\u001b[0;34m.\u001b[0m\u001b[0mcore\u001b[0m\u001b[0;34m.\u001b[0m\u001b[0mframe\u001b[0m\u001b[0;34m.\u001b[0m\u001b[0mDataFrame\u001b[0m\u001b[0;34m,\u001b[0m\u001b[0;34m\u001b[0m\n",
       "\u001b[0;34m\u001b[0m    \u001b[0met\u001b[0m\u001b[0;34m:\u001b[0m \u001b[0mparam\u001b[0m\u001b[0;34m.\u001b[0m\u001b[0mpython\u001b[0m\u001b[0;34m.\u001b[0m\u001b[0mtools\u001b[0m\u001b[0;34m.\u001b[0m\u001b[0mexecution_graph\u001b[0m\u001b[0;34m.\u001b[0m\u001b[0mExecutionGraph\u001b[0m\u001b[0;34m,\u001b[0m\u001b[0;34m\u001b[0m\n",
       "\u001b[0;34m\u001b[0m    \u001b[0mcolumn\u001b[0m\u001b[0;34m:\u001b[0m \u001b[0mstr\u001b[0m\u001b[0;34m,\u001b[0m\u001b[0;34m\u001b[0m\n",
       "\u001b[0;34m\u001b[0m\u001b[0;34m)\u001b[0m \u001b[0;34m->\u001b[0m \u001b[0;32mNone\u001b[0m\u001b[0;34m\u001b[0m\u001b[0;34m\u001b[0m\u001b[0m\n",
       "\u001b[0;31mDocstring:\u001b[0m\n",
       "Add columns from Execution Trace nodes into the trace dataframe. Please\n",
       "run this after running correlate_execution_trace(...).\n",
       "Args:\n",
       "    trace_df (pd.DataFrame): Dataframe for trace from one rank. Please\n",
       "                             run correlate_execution_trace() on the trace dataframe\n",
       "                             first so that the `et_node` is populated..\n",
       "    et (ExecutionGraph): The Execution Trace object.\n",
       "    column (stR): Column to add from the corresponding Execution Trace node.\n",
       "\n",
       "Returns:\n",
       "    None\n",
       "\u001b[0;31mFile:\u001b[0m      ~/Work/hta/HolisticTraceAnalysis2/hta/common/execution_trace.py\n",
       "\u001b[0;31mType:\u001b[0m      function"
      ]
     },
     "metadata": {},
     "output_type": "display_data"
    }
   ],
   "source": [
    "execution_trace.add_et_column?"
   ]
  },
  {
   "cell_type": "code",
   "execution_count": 9,
   "id": "6ff6efdd",
   "metadata": {},
   "outputs": [],
   "source": [
    "execution_trace.add_et_column(trace_df, et, 'et_node_name')\n",
    "execution_trace.add_et_column(trace_df, et, 'op_schema')\n",
    "execution_trace.add_et_column(trace_df, et, 'input_shapes')\n",
    "execution_trace.add_et_column(trace_df, et, 'input_types')\n",
    "execution_trace.add_et_column(trace_df, et, 'output_shapes')\n",
    "execution_trace.add_et_column(trace_df, et, 'output_types')"
   ]
  },
  {
   "cell_type": "code",
   "execution_count": 10,
   "id": "b3712776",
   "metadata": {},
   "outputs": [
    {
     "data": {
      "text/html": [
       "<div>\n",
       "<style scoped>\n",
       "    .dataframe tbody tr th:only-of-type {\n",
       "        vertical-align: middle;\n",
       "    }\n",
       "\n",
       "    .dataframe tbody tr th {\n",
       "        vertical-align: top;\n",
       "    }\n",
       "\n",
       "    .dataframe thead th {\n",
       "        text-align: right;\n",
       "    }\n",
       "</style>\n",
       "<table border=\"1\" class=\"dataframe\">\n",
       "  <thead>\n",
       "    <tr style=\"text-align: right;\">\n",
       "      <th></th>\n",
       "      <th>index</th>\n",
       "      <th>cat</th>\n",
       "      <th>name</th>\n",
       "      <th>pid</th>\n",
       "      <th>tid</th>\n",
       "      <th>ts</th>\n",
       "      <th>dur</th>\n",
       "      <th>memory_bw_gbps</th>\n",
       "      <th>Trace iteration</th>\n",
       "      <th>stream</th>\n",
       "      <th>...</th>\n",
       "      <th>correlation</th>\n",
       "      <th>index_correlation</th>\n",
       "      <th>iteration</th>\n",
       "      <th>et_node</th>\n",
       "      <th>et_node_name</th>\n",
       "      <th>op_schema</th>\n",
       "      <th>input_shapes</th>\n",
       "      <th>input_types</th>\n",
       "      <th>output_shapes</th>\n",
       "      <th>output_types</th>\n",
       "    </tr>\n",
       "  </thead>\n",
       "  <tbody>\n",
       "    <tr>\n",
       "      <th>0</th>\n",
       "      <td>0</td>\n",
       "      <td>user_annotation</td>\n",
       "      <td>[param|cuda]</td>\n",
       "      <td>563677</td>\n",
       "      <td>563677</td>\n",
       "      <td>0</td>\n",
       "      <td>19814157</td>\n",
       "      <td>-1</td>\n",
       "      <td>-1</td>\n",
       "      <td>-1</td>\n",
       "      <td>...</td>\n",
       "      <td>-1</td>\n",
       "      <td>-1</td>\n",
       "      <td>-1</td>\n",
       "      <td>3.0</td>\n",
       "      <td>[param|cuda]</td>\n",
       "      <td></td>\n",
       "      <td>[]</td>\n",
       "      <td>[]</td>\n",
       "      <td>[]</td>\n",
       "      <td>[]</td>\n",
       "    </tr>\n",
       "    <tr>\n",
       "      <th>1</th>\n",
       "      <td>1</td>\n",
       "      <td>cpu_op</td>\n",
       "      <td>aten::rand</td>\n",
       "      <td>563677</td>\n",
       "      <td>563677</td>\n",
       "      <td>2006</td>\n",
       "      <td>19583658</td>\n",
       "      <td>-1</td>\n",
       "      <td>-1</td>\n",
       "      <td>-1</td>\n",
       "      <td>...</td>\n",
       "      <td>-1</td>\n",
       "      <td>-1</td>\n",
       "      <td>-1</td>\n",
       "      <td>4.0</td>\n",
       "      <td>aten::rand</td>\n",
       "      <td>aten::rand(SymInt[] size, *, ScalarType? dtype...</td>\n",
       "      <td>[[[], []], [], [], [], []]</td>\n",
       "      <td>[GenericList[Int,Int], Int, None, Device, Bool]</td>\n",
       "      <td>[[256, 256]]</td>\n",
       "      <td>[Tensor(float)]</td>\n",
       "    </tr>\n",
       "    <tr>\n",
       "      <th>2</th>\n",
       "      <td>2</td>\n",
       "      <td>cpu_op</td>\n",
       "      <td>aten::empty</td>\n",
       "      <td>563677</td>\n",
       "      <td>563677</td>\n",
       "      <td>2047</td>\n",
       "      <td>19583280</td>\n",
       "      <td>-1</td>\n",
       "      <td>-1</td>\n",
       "      <td>-1</td>\n",
       "      <td>...</td>\n",
       "      <td>-1</td>\n",
       "      <td>-1</td>\n",
       "      <td>-1</td>\n",
       "      <td>5.0</td>\n",
       "      <td>aten::empty</td>\n",
       "      <td>aten::empty.memory_format(SymInt[] size, *, Sc...</td>\n",
       "      <td>[[[], []], [], [], [], [], []]</td>\n",
       "      <td>[GenericList[Int,Int], Int, None, Device, Bool...</td>\n",
       "      <td>[[256, 256]]</td>\n",
       "      <td>[Tensor(float)]</td>\n",
       "    </tr>\n",
       "    <tr>\n",
       "      <th>3</th>\n",
       "      <td>3</td>\n",
       "      <td>cpu_op</td>\n",
       "      <td>aten::uniform_</td>\n",
       "      <td>563677</td>\n",
       "      <td>563677</td>\n",
       "      <td>19585454</td>\n",
       "      <td>189</td>\n",
       "      <td>-1</td>\n",
       "      <td>-1</td>\n",
       "      <td>-1</td>\n",
       "      <td>...</td>\n",
       "      <td>-1</td>\n",
       "      <td>-1</td>\n",
       "      <td>-1</td>\n",
       "      <td>8.0</td>\n",
       "      <td>aten::uniform_</td>\n",
       "      <td>aten::uniform_(Tensor(a!) self, float from=0.,...</td>\n",
       "      <td>[[256, 256], [], [], []]</td>\n",
       "      <td>[Tensor(float), Double, Double, None]</td>\n",
       "      <td>[[256, 256]]</td>\n",
       "      <td>[Tensor(float)]</td>\n",
       "    </tr>\n",
       "    <tr>\n",
       "      <th>4</th>\n",
       "      <td>4</td>\n",
       "      <td>cpu_op</td>\n",
       "      <td>aten::rand</td>\n",
       "      <td>563677</td>\n",
       "      <td>563677</td>\n",
       "      <td>19585799</td>\n",
       "      <td>94</td>\n",
       "      <td>-1</td>\n",
       "      <td>-1</td>\n",
       "      <td>-1</td>\n",
       "      <td>...</td>\n",
       "      <td>-1</td>\n",
       "      <td>-1</td>\n",
       "      <td>-1</td>\n",
       "      <td>9.0</td>\n",
       "      <td>aten::rand</td>\n",
       "      <td>aten::rand(SymInt[] size, *, ScalarType? dtype...</td>\n",
       "      <td>[[[], []], [], [], [], []]</td>\n",
       "      <td>[GenericList[Int,Int], Int, None, Device, Bool]</td>\n",
       "      <td>[[256, 256]]</td>\n",
       "      <td>[Tensor(float)]</td>\n",
       "    </tr>\n",
       "  </tbody>\n",
       "</table>\n",
       "<p>5 rows × 21 columns</p>\n",
       "</div>"
      ],
      "text/plain": [
       "   index              cat            name     pid     tid        ts       dur  \\\n",
       "0      0  user_annotation    [param|cuda]  563677  563677         0  19814157   \n",
       "1      1           cpu_op      aten::rand  563677  563677      2006  19583658   \n",
       "2      2           cpu_op     aten::empty  563677  563677      2047  19583280   \n",
       "3      3           cpu_op  aten::uniform_  563677  563677  19585454       189   \n",
       "4      4           cpu_op      aten::rand  563677  563677  19585799        94   \n",
       "\n",
       "   memory_bw_gbps  Trace iteration  stream  ...  correlation  \\\n",
       "0              -1               -1      -1  ...           -1   \n",
       "1              -1               -1      -1  ...           -1   \n",
       "2              -1               -1      -1  ...           -1   \n",
       "3              -1               -1      -1  ...           -1   \n",
       "4              -1               -1      -1  ...           -1   \n",
       "\n",
       "   index_correlation  iteration  et_node    et_node_name  \\\n",
       "0                 -1         -1      3.0    [param|cuda]   \n",
       "1                 -1         -1      4.0      aten::rand   \n",
       "2                 -1         -1      5.0     aten::empty   \n",
       "3                 -1         -1      8.0  aten::uniform_   \n",
       "4                 -1         -1      9.0      aten::rand   \n",
       "\n",
       "                                           op_schema  \\\n",
       "0                                                      \n",
       "1  aten::rand(SymInt[] size, *, ScalarType? dtype...   \n",
       "2  aten::empty.memory_format(SymInt[] size, *, Sc...   \n",
       "3  aten::uniform_(Tensor(a!) self, float from=0.,...   \n",
       "4  aten::rand(SymInt[] size, *, ScalarType? dtype...   \n",
       "\n",
       "                     input_shapes  \\\n",
       "0                              []   \n",
       "1      [[[], []], [], [], [], []]   \n",
       "2  [[[], []], [], [], [], [], []]   \n",
       "3        [[256, 256], [], [], []]   \n",
       "4      [[[], []], [], [], [], []]   \n",
       "\n",
       "                                         input_types output_shapes  \\\n",
       "0                                                 []            []   \n",
       "1    [GenericList[Int,Int], Int, None, Device, Bool]  [[256, 256]]   \n",
       "2  [GenericList[Int,Int], Int, None, Device, Bool...  [[256, 256]]   \n",
       "3              [Tensor(float), Double, Double, None]  [[256, 256]]   \n",
       "4    [GenericList[Int,Int], Int, None, Device, Bool]  [[256, 256]]   \n",
       "\n",
       "      output_types  \n",
       "0               []  \n",
       "1  [Tensor(float)]  \n",
       "2  [Tensor(float)]  \n",
       "3  [Tensor(float)]  \n",
       "4  [Tensor(float)]  \n",
       "\n",
       "[5 rows x 21 columns]"
      ]
     },
     "execution_count": 10,
     "metadata": {},
     "output_type": "execute_result"
    }
   ],
   "source": [
    "trace_df.head()"
   ]
  }
 ],
 "metadata": {
  "kernelspec": {
   "display_name": "Python 3 (ipykernel)",
   "language": "python",
   "name": "python3"
  },
  "language_info": {
   "codemirror_mode": {
    "name": "ipython",
    "version": 3
   },
   "file_extension": ".py",
   "mimetype": "text/x-python",
   "name": "python",
   "nbconvert_exporter": "python",
   "pygments_lexer": "ipython3",
   "version": "3.9.17"
  }
 },
 "nbformat": 4,
 "nbformat_minor": 5
}
