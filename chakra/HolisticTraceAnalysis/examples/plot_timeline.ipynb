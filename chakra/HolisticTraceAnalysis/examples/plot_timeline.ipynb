{
 "cells": [
  {
   "cell_type": "markdown",
   "id": "e3d553e3",
   "metadata": {
    "pycharm": {
     "name": "#%% md\n"
    }
   },
   "source": [
    "# Import library"
   ]
  },
  {
   "cell_type": "code",
   "execution_count": 1,
   "id": "4cd2e8b7",
   "metadata": {
    "jupyter": {
     "outputs_hidden": false
    },
    "pycharm": {
     "name": "#%%\n"
    }
   },
   "outputs": [],
   "source": [
    "import os\n",
    "import pandas as pd\n",
    "from hta.common.trace import Trace\n",
    "from hta.configs.config import logger\n",
    "from hta.analyzers.timeline import plot_timeline_gpu_kernels\n",
    "\n",
    "from pathlib import Path"
   ]
  },
  {
   "cell_type": "markdown",
   "id": "ef88116a-62d8-4150-80b9-9dc178dff936",
   "metadata": {
    "jupyter": {
     "outputs_hidden": false
    },
    "pycharm": {
     "name": "#%%\n"
    }
   },
   "source": [
    "## Display figures on github\n",
    "\n",
    "+ The following cell enables the figures visible on github but causes the figure being  non-interactive.\n",
    "\n",
    "+ To enable interactive viewing of the figures, set `ON_GITHUB = False` when running this notebook outside github.\n",
    "\n",
    "+ To run all cells to get all the figures."
   ]
  },
  {
   "cell_type": "code",
   "execution_count": 2,
   "id": "76211817",
   "metadata": {
    "jupyter": {
     "outputs_hidden": false
    },
    "pycharm": {
     "name": "#%%\n"
    }
   },
   "outputs": [],
   "source": [
    "# ON_GITHUB = True\n",
    "ON_GITHUB = False\n",
    "if ON_GITHUB:\n",
    "    import plotly.io as pio\n",
    "    pio.renderers.default = \"svg\""
   ]
  },
  {
   "cell_type": "markdown",
   "id": "d3c452ad",
   "metadata": {
    "pycharm": {
     "name": "#%% md\n"
    }
   },
   "source": [
    "# Load Trace Data"
   ]
  },
  {
   "cell_type": "code",
   "execution_count": null,
   "id": "96422be5",
   "metadata": {
    "pycharm": {
     "name": "#%%\n"
    },
    "tags": []
   },
   "outputs": [],
   "source": [
    "%%time\n",
    "\n",
    "# Detect the HolisticTraceAnalysis project path\n",
    "project_path_candidates=!find ~/ -name HolisticTraceAnalysis\n",
    "for p in project_path_candidates:\n",
    "    if os.path.exists(p) and os.path.exists(Path(p).joinpath(\"hta\")):\n",
    "        base_dir = p\n",
    "        break\n",
    "        \n",
    "# Specify a trace folder\n",
    "# Ensure the sample datasets exists\n",
    "assert base_dir is not None\n",
    "assert os.path.exists(f\"{base_dir}/tests/data/vision_transformer\")\n",
    "\n",
    "trace_dir = str(Path(base_dir).joinpath(\"tests/data/vision_transformer\"))\n",
    "logger.info(f\"Using traces from folder {trace_dir}\")\n",
    "\n",
    "# Parse the traces\n",
    "trace_data = Trace(trace_dir=trace_dir)\n",
    "trace_data.parse_traces()"
   ]
  },
  {
   "cell_type": "markdown",
   "id": "280808e4",
   "metadata": {
    "pycharm": {
     "name": "#%% md\n"
    }
   },
   "source": [
    "# Prepare a DataFrame that contains all the traces"
   ]
  },
  {
   "cell_type": "code",
   "execution_count": null,
   "id": "f3f2af98",
   "metadata": {
    "jupyter": {
     "outputs_hidden": false
    },
    "pycharm": {
     "name": "#%%\n"
    }
   },
   "outputs": [],
   "source": [
    "%%time\n",
    "_ranks = list(trace_data.get_all_traces().keys())\n",
    "df = pd.concat([trace_data.get_trace(r) for r in _ranks], axis=0, keys=_ranks, names=[\"rank\", \"idx\"]).reset_index()\n",
    "symbol_table = trace_data.symbol_table"
   ]
  },
  {
   "cell_type": "code",
   "execution_count": 5,
   "id": "0f9f74f9",
   "metadata": {},
   "outputs": [
    {
     "data": {
      "text/html": [
       "<div>\n",
       "<style scoped>\n",
       "    .dataframe tbody tr th:only-of-type {\n",
       "        vertical-align: middle;\n",
       "    }\n",
       "\n",
       "    .dataframe tbody tr th {\n",
       "        vertical-align: top;\n",
       "    }\n",
       "\n",
       "    .dataframe thead th {\n",
       "        text-align: right;\n",
       "    }\n",
       "</style>\n",
       "<table border=\"1\" class=\"dataframe\">\n",
       "  <thead>\n",
       "    <tr style=\"text-align: right;\">\n",
       "      <th></th>\n",
       "      <th>rank</th>\n",
       "      <th>idx</th>\n",
       "      <th>index</th>\n",
       "      <th>name</th>\n",
       "      <th>pid</th>\n",
       "      <th>tid</th>\n",
       "      <th>ts</th>\n",
       "      <th>cat</th>\n",
       "      <th>dur</th>\n",
       "      <th>stream</th>\n",
       "      <th>correlation</th>\n",
       "      <th>Trace iteration</th>\n",
       "      <th>memory_bw_gbps</th>\n",
       "      <th>index_correlation</th>\n",
       "      <th>iteration</th>\n",
       "    </tr>\n",
       "  </thead>\n",
       "  <tbody>\n",
       "    <tr>\n",
       "      <th>0</th>\n",
       "      <td>0</td>\n",
       "      <td>23850</td>\n",
       "      <td>23850</td>\n",
       "      <td>110</td>\n",
       "      <td>715861</td>\n",
       "      <td>715861</td>\n",
       "      <td>1658948133801383</td>\n",
       "      <td>101</td>\n",
       "      <td>1068</td>\n",
       "      <td>-1</td>\n",
       "      <td>-1</td>\n",
       "      <td>0</td>\n",
       "      <td>-1.0</td>\n",
       "      <td>-1</td>\n",
       "      <td>-1</td>\n",
       "    </tr>\n",
       "    <tr>\n",
       "      <th>1</th>\n",
       "      <td>0</td>\n",
       "      <td>23851</td>\n",
       "      <td>23851</td>\n",
       "      <td>51</td>\n",
       "      <td>715861</td>\n",
       "      <td>715861</td>\n",
       "      <td>1658948133802396</td>\n",
       "      <td>101</td>\n",
       "      <td>40</td>\n",
       "      <td>-1</td>\n",
       "      <td>-1</td>\n",
       "      <td>0</td>\n",
       "      <td>-1.0</td>\n",
       "      <td>-1</td>\n",
       "      <td>-1</td>\n",
       "    </tr>\n",
       "    <tr>\n",
       "      <th>2</th>\n",
       "      <td>0</td>\n",
       "      <td>23852</td>\n",
       "      <td>23852</td>\n",
       "      <td>103</td>\n",
       "      <td>715861</td>\n",
       "      <td>715861</td>\n",
       "      <td>1658948133802450</td>\n",
       "      <td>101</td>\n",
       "      <td>0</td>\n",
       "      <td>-1</td>\n",
       "      <td>-1</td>\n",
       "      <td>0</td>\n",
       "      <td>-1.0</td>\n",
       "      <td>-1</td>\n",
       "      <td>-1</td>\n",
       "    </tr>\n",
       "    <tr>\n",
       "      <th>3</th>\n",
       "      <td>0</td>\n",
       "      <td>23853</td>\n",
       "      <td>23853</td>\n",
       "      <td>1</td>\n",
       "      <td>715861</td>\n",
       "      <td>715861</td>\n",
       "      <td>1658948133802479</td>\n",
       "      <td>101</td>\n",
       "      <td>541820</td>\n",
       "      <td>-1</td>\n",
       "      <td>-1</td>\n",
       "      <td>0</td>\n",
       "      <td>-1.0</td>\n",
       "      <td>-1</td>\n",
       "      <td>15</td>\n",
       "    </tr>\n",
       "    <tr>\n",
       "      <th>4</th>\n",
       "      <td>0</td>\n",
       "      <td>23854</td>\n",
       "      <td>23854</td>\n",
       "      <td>51</td>\n",
       "      <td>715861</td>\n",
       "      <td>715861</td>\n",
       "      <td>1658948133802483</td>\n",
       "      <td>101</td>\n",
       "      <td>11</td>\n",
       "      <td>-1</td>\n",
       "      <td>-1</td>\n",
       "      <td>0</td>\n",
       "      <td>-1.0</td>\n",
       "      <td>-1</td>\n",
       "      <td>15</td>\n",
       "    </tr>\n",
       "    <tr>\n",
       "      <th>...</th>\n",
       "      <td>...</td>\n",
       "      <td>...</td>\n",
       "      <td>...</td>\n",
       "      <td>...</td>\n",
       "      <td>...</td>\n",
       "      <td>...</td>\n",
       "      <td>...</td>\n",
       "      <td>...</td>\n",
       "      <td>...</td>\n",
       "      <td>...</td>\n",
       "      <td>...</td>\n",
       "      <td>...</td>\n",
       "      <td>...</td>\n",
       "      <td>...</td>\n",
       "      <td>...</td>\n",
       "    </tr>\n",
       "    <tr>\n",
       "      <th>1993506</th>\n",
       "      <td>7</td>\n",
       "      <td>310907</td>\n",
       "      <td>310907</td>\n",
       "      <td>93</td>\n",
       "      <td>7</td>\n",
       "      <td>26</td>\n",
       "      <td>1658948134997354</td>\n",
       "      <td>229</td>\n",
       "      <td>128</td>\n",
       "      <td>26</td>\n",
       "      <td>338677</td>\n",
       "      <td>-1</td>\n",
       "      <td>-1.0</td>\n",
       "      <td>310909</td>\n",
       "      <td>17</td>\n",
       "    </tr>\n",
       "    <tr>\n",
       "      <th>1993507</th>\n",
       "      <td>7</td>\n",
       "      <td>310909</td>\n",
       "      <td>310909</td>\n",
       "      <td>248</td>\n",
       "      <td>715868</td>\n",
       "      <td>715868</td>\n",
       "      <td>1658948134960850</td>\n",
       "      <td>195</td>\n",
       "      <td>16</td>\n",
       "      <td>-1</td>\n",
       "      <td>338677</td>\n",
       "      <td>-1</td>\n",
       "      <td>-1.0</td>\n",
       "      <td>310907</td>\n",
       "      <td>17</td>\n",
       "    </tr>\n",
       "    <tr>\n",
       "      <th>1993508</th>\n",
       "      <td>7</td>\n",
       "      <td>310911</td>\n",
       "      <td>310911</td>\n",
       "      <td>41</td>\n",
       "      <td>715868</td>\n",
       "      <td>715868</td>\n",
       "      <td>1658948134960867</td>\n",
       "      <td>195</td>\n",
       "      <td>1</td>\n",
       "      <td>-1</td>\n",
       "      <td>338678</td>\n",
       "      <td>-1</td>\n",
       "      <td>-1.0</td>\n",
       "      <td>0</td>\n",
       "      <td>17</td>\n",
       "    </tr>\n",
       "    <tr>\n",
       "      <th>1993509</th>\n",
       "      <td>7</td>\n",
       "      <td>310912</td>\n",
       "      <td>310912</td>\n",
       "      <td>107</td>\n",
       "      <td>715868</td>\n",
       "      <td>715868</td>\n",
       "      <td>1658948134960871</td>\n",
       "      <td>195</td>\n",
       "      <td>1</td>\n",
       "      <td>-1</td>\n",
       "      <td>338681</td>\n",
       "      <td>-1</td>\n",
       "      <td>-1.0</td>\n",
       "      <td>0</td>\n",
       "      <td>17</td>\n",
       "    </tr>\n",
       "    <tr>\n",
       "      <th>1993510</th>\n",
       "      <td>7</td>\n",
       "      <td>310913</td>\n",
       "      <td>310913</td>\n",
       "      <td>41</td>\n",
       "      <td>715868</td>\n",
       "      <td>715868</td>\n",
       "      <td>1658948134960874</td>\n",
       "      <td>195</td>\n",
       "      <td>0</td>\n",
       "      <td>-1</td>\n",
       "      <td>338684</td>\n",
       "      <td>-1</td>\n",
       "      <td>-1.0</td>\n",
       "      <td>0</td>\n",
       "      <td>17</td>\n",
       "    </tr>\n",
       "  </tbody>\n",
       "</table>\n",
       "<p>1993511 rows × 15 columns</p>\n",
       "</div>"
      ],
      "text/plain": [
       "         rank     idx   index  name     pid     tid                ts  cat  \\\n",
       "0           0   23850   23850   110  715861  715861  1658948133801383  101   \n",
       "1           0   23851   23851    51  715861  715861  1658948133802396  101   \n",
       "2           0   23852   23852   103  715861  715861  1658948133802450  101   \n",
       "3           0   23853   23853     1  715861  715861  1658948133802479  101   \n",
       "4           0   23854   23854    51  715861  715861  1658948133802483  101   \n",
       "...       ...     ...     ...   ...     ...     ...               ...  ...   \n",
       "1993506     7  310907  310907    93       7      26  1658948134997354  229   \n",
       "1993507     7  310909  310909   248  715868  715868  1658948134960850  195   \n",
       "1993508     7  310911  310911    41  715868  715868  1658948134960867  195   \n",
       "1993509     7  310912  310912   107  715868  715868  1658948134960871  195   \n",
       "1993510     7  310913  310913    41  715868  715868  1658948134960874  195   \n",
       "\n",
       "            dur  stream  correlation  Trace iteration  memory_bw_gbps  \\\n",
       "0          1068      -1           -1                0            -1.0   \n",
       "1            40      -1           -1                0            -1.0   \n",
       "2             0      -1           -1                0            -1.0   \n",
       "3        541820      -1           -1                0            -1.0   \n",
       "4            11      -1           -1                0            -1.0   \n",
       "...         ...     ...          ...              ...             ...   \n",
       "1993506     128      26       338677               -1            -1.0   \n",
       "1993507      16      -1       338677               -1            -1.0   \n",
       "1993508       1      -1       338678               -1            -1.0   \n",
       "1993509       1      -1       338681               -1            -1.0   \n",
       "1993510       0      -1       338684               -1            -1.0   \n",
       "\n",
       "         index_correlation  iteration  \n",
       "0                       -1         -1  \n",
       "1                       -1         -1  \n",
       "2                       -1         -1  \n",
       "3                       -1         15  \n",
       "4                       -1         15  \n",
       "...                    ...        ...  \n",
       "1993506             310909         17  \n",
       "1993507             310907         17  \n",
       "1993508                  0         17  \n",
       "1993509                  0         17  \n",
       "1993510                  0         17  \n",
       "\n",
       "[1993511 rows x 15 columns]"
      ]
     },
     "execution_count": 5,
     "metadata": {},
     "output_type": "execute_result"
    }
   ],
   "source": [
    "df"
   ]
  },
  {
   "cell_type": "code",
   "execution_count": 6,
   "id": "178a3602",
   "metadata": {},
   "outputs": [],
   "source": [
    "new_df = df[df['rank']<4]"
   ]
  },
  {
   "cell_type": "code",
   "execution_count": 7,
   "id": "16b77d84",
   "metadata": {},
   "outputs": [
    {
     "data": {
      "text/html": [
       "<div>\n",
       "<style scoped>\n",
       "    .dataframe tbody tr th:only-of-type {\n",
       "        vertical-align: middle;\n",
       "    }\n",
       "\n",
       "    .dataframe tbody tr th {\n",
       "        vertical-align: top;\n",
       "    }\n",
       "\n",
       "    .dataframe thead th {\n",
       "        text-align: right;\n",
       "    }\n",
       "</style>\n",
       "<table border=\"1\" class=\"dataframe\">\n",
       "  <thead>\n",
       "    <tr style=\"text-align: right;\">\n",
       "      <th></th>\n",
       "      <th>rank</th>\n",
       "      <th>idx</th>\n",
       "      <th>index</th>\n",
       "      <th>name</th>\n",
       "      <th>pid</th>\n",
       "      <th>tid</th>\n",
       "      <th>ts</th>\n",
       "      <th>cat</th>\n",
       "      <th>dur</th>\n",
       "      <th>stream</th>\n",
       "      <th>correlation</th>\n",
       "      <th>Trace iteration</th>\n",
       "      <th>memory_bw_gbps</th>\n",
       "      <th>index_correlation</th>\n",
       "      <th>iteration</th>\n",
       "    </tr>\n",
       "  </thead>\n",
       "  <tbody>\n",
       "    <tr>\n",
       "      <th>0</th>\n",
       "      <td>0</td>\n",
       "      <td>23850</td>\n",
       "      <td>23850</td>\n",
       "      <td>110</td>\n",
       "      <td>715861</td>\n",
       "      <td>715861</td>\n",
       "      <td>1658948133801383</td>\n",
       "      <td>101</td>\n",
       "      <td>1068</td>\n",
       "      <td>-1</td>\n",
       "      <td>-1</td>\n",
       "      <td>0</td>\n",
       "      <td>-1.0</td>\n",
       "      <td>-1</td>\n",
       "      <td>-1</td>\n",
       "    </tr>\n",
       "    <tr>\n",
       "      <th>1</th>\n",
       "      <td>0</td>\n",
       "      <td>23851</td>\n",
       "      <td>23851</td>\n",
       "      <td>51</td>\n",
       "      <td>715861</td>\n",
       "      <td>715861</td>\n",
       "      <td>1658948133802396</td>\n",
       "      <td>101</td>\n",
       "      <td>40</td>\n",
       "      <td>-1</td>\n",
       "      <td>-1</td>\n",
       "      <td>0</td>\n",
       "      <td>-1.0</td>\n",
       "      <td>-1</td>\n",
       "      <td>-1</td>\n",
       "    </tr>\n",
       "    <tr>\n",
       "      <th>2</th>\n",
       "      <td>0</td>\n",
       "      <td>23852</td>\n",
       "      <td>23852</td>\n",
       "      <td>103</td>\n",
       "      <td>715861</td>\n",
       "      <td>715861</td>\n",
       "      <td>1658948133802450</td>\n",
       "      <td>101</td>\n",
       "      <td>0</td>\n",
       "      <td>-1</td>\n",
       "      <td>-1</td>\n",
       "      <td>0</td>\n",
       "      <td>-1.0</td>\n",
       "      <td>-1</td>\n",
       "      <td>-1</td>\n",
       "    </tr>\n",
       "    <tr>\n",
       "      <th>3</th>\n",
       "      <td>0</td>\n",
       "      <td>23853</td>\n",
       "      <td>23853</td>\n",
       "      <td>1</td>\n",
       "      <td>715861</td>\n",
       "      <td>715861</td>\n",
       "      <td>1658948133802479</td>\n",
       "      <td>101</td>\n",
       "      <td>541820</td>\n",
       "      <td>-1</td>\n",
       "      <td>-1</td>\n",
       "      <td>0</td>\n",
       "      <td>-1.0</td>\n",
       "      <td>-1</td>\n",
       "      <td>15</td>\n",
       "    </tr>\n",
       "    <tr>\n",
       "      <th>4</th>\n",
       "      <td>0</td>\n",
       "      <td>23854</td>\n",
       "      <td>23854</td>\n",
       "      <td>51</td>\n",
       "      <td>715861</td>\n",
       "      <td>715861</td>\n",
       "      <td>1658948133802483</td>\n",
       "      <td>101</td>\n",
       "      <td>11</td>\n",
       "      <td>-1</td>\n",
       "      <td>-1</td>\n",
       "      <td>0</td>\n",
       "      <td>-1.0</td>\n",
       "      <td>-1</td>\n",
       "      <td>15</td>\n",
       "    </tr>\n",
       "    <tr>\n",
       "      <th>...</th>\n",
       "      <td>...</td>\n",
       "      <td>...</td>\n",
       "      <td>...</td>\n",
       "      <td>...</td>\n",
       "      <td>...</td>\n",
       "      <td>...</td>\n",
       "      <td>...</td>\n",
       "      <td>...</td>\n",
       "      <td>...</td>\n",
       "      <td>...</td>\n",
       "      <td>...</td>\n",
       "      <td>...</td>\n",
       "      <td>...</td>\n",
       "      <td>...</td>\n",
       "      <td>...</td>\n",
       "    </tr>\n",
       "    <tr>\n",
       "      <th>998215</th>\n",
       "      <td>3</td>\n",
       "      <td>316237</td>\n",
       "      <td>316237</td>\n",
       "      <td>44</td>\n",
       "      <td>715864</td>\n",
       "      <td>715864</td>\n",
       "      <td>1658948134911510</td>\n",
       "      <td>195</td>\n",
       "      <td>1</td>\n",
       "      <td>-1</td>\n",
       "      <td>338172</td>\n",
       "      <td>-1</td>\n",
       "      <td>-1.0</td>\n",
       "      <td>0</td>\n",
       "      <td>17</td>\n",
       "    </tr>\n",
       "    <tr>\n",
       "      <th>998216</th>\n",
       "      <td>3</td>\n",
       "      <td>316238</td>\n",
       "      <td>316238</td>\n",
       "      <td>202</td>\n",
       "      <td>715864</td>\n",
       "      <td>715864</td>\n",
       "      <td>1658948134911519</td>\n",
       "      <td>195</td>\n",
       "      <td>1</td>\n",
       "      <td>-1</td>\n",
       "      <td>338176</td>\n",
       "      <td>-1</td>\n",
       "      <td>-1.0</td>\n",
       "      <td>0</td>\n",
       "      <td>17</td>\n",
       "    </tr>\n",
       "    <tr>\n",
       "      <th>998217</th>\n",
       "      <td>3</td>\n",
       "      <td>316239</td>\n",
       "      <td>316239</td>\n",
       "      <td>202</td>\n",
       "      <td>715864</td>\n",
       "      <td>715864</td>\n",
       "      <td>1658948134911523</td>\n",
       "      <td>195</td>\n",
       "      <td>0</td>\n",
       "      <td>-1</td>\n",
       "      <td>338179</td>\n",
       "      <td>-1</td>\n",
       "      <td>-1.0</td>\n",
       "      <td>0</td>\n",
       "      <td>17</td>\n",
       "    </tr>\n",
       "    <tr>\n",
       "      <th>998218</th>\n",
       "      <td>3</td>\n",
       "      <td>316240</td>\n",
       "      <td>316240</td>\n",
       "      <td>240</td>\n",
       "      <td>715864</td>\n",
       "      <td>715864</td>\n",
       "      <td>1658948134911781</td>\n",
       "      <td>195</td>\n",
       "      <td>1</td>\n",
       "      <td>-1</td>\n",
       "      <td>338186</td>\n",
       "      <td>-1</td>\n",
       "      <td>-1.0</td>\n",
       "      <td>0</td>\n",
       "      <td>17</td>\n",
       "    </tr>\n",
       "    <tr>\n",
       "      <th>998219</th>\n",
       "      <td>3</td>\n",
       "      <td>316241</td>\n",
       "      <td>316241</td>\n",
       "      <td>41</td>\n",
       "      <td>715864</td>\n",
       "      <td>715864</td>\n",
       "      <td>1658948134911788</td>\n",
       "      <td>195</td>\n",
       "      <td>2</td>\n",
       "      <td>-1</td>\n",
       "      <td>338188</td>\n",
       "      <td>-1</td>\n",
       "      <td>-1.0</td>\n",
       "      <td>0</td>\n",
       "      <td>17</td>\n",
       "    </tr>\n",
       "  </tbody>\n",
       "</table>\n",
       "<p>998220 rows × 15 columns</p>\n",
       "</div>"
      ],
      "text/plain": [
       "        rank     idx   index  name     pid     tid                ts  cat  \\\n",
       "0          0   23850   23850   110  715861  715861  1658948133801383  101   \n",
       "1          0   23851   23851    51  715861  715861  1658948133802396  101   \n",
       "2          0   23852   23852   103  715861  715861  1658948133802450  101   \n",
       "3          0   23853   23853     1  715861  715861  1658948133802479  101   \n",
       "4          0   23854   23854    51  715861  715861  1658948133802483  101   \n",
       "...      ...     ...     ...   ...     ...     ...               ...  ...   \n",
       "998215     3  316237  316237    44  715864  715864  1658948134911510  195   \n",
       "998216     3  316238  316238   202  715864  715864  1658948134911519  195   \n",
       "998217     3  316239  316239   202  715864  715864  1658948134911523  195   \n",
       "998218     3  316240  316240   240  715864  715864  1658948134911781  195   \n",
       "998219     3  316241  316241    41  715864  715864  1658948134911788  195   \n",
       "\n",
       "           dur  stream  correlation  Trace iteration  memory_bw_gbps  \\\n",
       "0         1068      -1           -1                0            -1.0   \n",
       "1           40      -1           -1                0            -1.0   \n",
       "2            0      -1           -1                0            -1.0   \n",
       "3       541820      -1           -1                0            -1.0   \n",
       "4           11      -1           -1                0            -1.0   \n",
       "...        ...     ...          ...              ...             ...   \n",
       "998215       1      -1       338172               -1            -1.0   \n",
       "998216       1      -1       338176               -1            -1.0   \n",
       "998217       0      -1       338179               -1            -1.0   \n",
       "998218       1      -1       338186               -1            -1.0   \n",
       "998219       2      -1       338188               -1            -1.0   \n",
       "\n",
       "        index_correlation  iteration  \n",
       "0                      -1         -1  \n",
       "1                      -1         -1  \n",
       "2                      -1         -1  \n",
       "3                      -1         15  \n",
       "4                      -1         15  \n",
       "...                   ...        ...  \n",
       "998215                  0         17  \n",
       "998216                  0         17  \n",
       "998217                  0         17  \n",
       "998218                  0         17  \n",
       "998219                  0         17  \n",
       "\n",
       "[998220 rows x 15 columns]"
      ]
     },
     "execution_count": 7,
     "metadata": {},
     "output_type": "execute_result"
    }
   ],
   "source": [
    "new_df"
   ]
  },
  {
   "cell_type": "markdown",
   "id": "960077c8",
   "metadata": {
    "pycharm": {
     "name": "#%% md\n"
    }
   },
   "source": [
    "# Example #1 - Plot GPU kernels on all ranks for one iteration"
   ]
  },
  {
   "cell_type": "code",
   "execution_count": null,
   "id": "f9af1320",
   "metadata": {
    "jupyter": {
     "outputs_hidden": false
    },
    "pycharm": {
     "name": "#%%\n"
    }
   },
   "outputs": [],
   "source": [
    "%%time\n",
    "plot_timeline_gpu_kernels(\"Timeline of GPU Kernels (Iteration=15)\", new_df, symbol_table, iterations=[15], duration_threshold=2000)"
   ]
  },
  {
   "cell_type": "markdown",
   "id": "a2a5194f",
   "metadata": {
    "pycharm": {
     "name": "#%% md\n"
    }
   },
   "source": [
    "# Example #2 - Plot compute kernels for two iterations"
   ]
  },
  {
   "cell_type": "code",
   "execution_count": null,
   "id": "bbaaf699",
   "metadata": {
    "jupyter": {
     "outputs_hidden": false
    },
    "pycharm": {
     "name": "#%%\n"
    }
   },
   "outputs": [],
   "source": [
    "%%time\n",
    "s_map = pd.Series(symbol_table.get_sym_id_map())\n",
    "non_computer_name_ids = s_map[\n",
    "    s_map.index.str.startswith(\"ncclKernel\")\n",
    "    | s_map.index.str.startswith(\"Memset\")\n",
    "    | s_map.index.str.startswith(\"Memcpy\")\n",
    "].values\n",
    "compute_df = df.loc[~df[\"name\"].isin(non_computer_name_ids)]\n",
    "plot_timeline_gpu_kernels(\"Timeline of Compute Kernels (Iteration = [15, 16])\", compute_df, symbol_table, iterations=[15, 16], duration_threshold=2000)"
   ]
  },
  {
   "cell_type": "markdown",
   "id": "43efb533",
   "metadata": {
    "pycharm": {
     "name": "#%% md\n"
    }
   },
   "source": [
    "# Example #3 - Plot compute kernels on one stream for one iterations "
   ]
  },
  {
   "cell_type": "code",
   "execution_count": null,
   "id": "23efc541",
   "metadata": {
    "jupyter": {
     "outputs_hidden": false
    },
    "pycharm": {
     "name": "#%%\n"
    }
   },
   "outputs": [],
   "source": [
    "s_map = pd.Series(symbol_table.get_sym_id_map())\n",
    "non_compute_name_ids = s_map[\n",
    "    s_map.index.str.startswith(\"ncclKernel\")\n",
    "    | s_map.index.str.startswith(\"Memset\")\n",
    "    | s_map.index.str.startswith(\"Memcpy\")\n",
    "].values\n",
    "compute_df = df.loc[~df[\"name\"].isin(non_compute_name_ids)]\n",
    "plot_timeline_gpu_kernels(\"Timeline of Computer Kernels (Iteration=16, Stream=7)\", compute_df, symbol_table, iterations=[16], streams=[7], duration_threshold=2000)"
   ]
  },
  {
   "cell_type": "markdown",
   "id": "ad61d8ea",
   "metadata": {
    "pycharm": {
     "name": "#%% md\n"
    }
   },
   "source": [
    "# Example 4 - Plot all communication kernels on all iterations"
   ]
  },
  {
   "cell_type": "code",
   "execution_count": null,
   "id": "737fb72b",
   "metadata": {
    "jupyter": {
     "outputs_hidden": false
    },
    "pycharm": {
     "name": "#%%\n"
    }
   },
   "outputs": [],
   "source": [
    "%%time\n",
    "s_map = pd.Series(symbol_table.get_sym_id_map())\n",
    "communicate_name_ids = s_map[\n",
    "    s_map.index.str.startswith(\"ncclKernel\")\n",
    "].values\n",
    "communicate_df = df.loc[df[\"name\"].isin(communicate_name_ids)]\n",
    "plot_timeline_gpu_kernels(\"Timeline of All Communication Kernels\", communicate_df, symbol_table, duration_threshold=2000)"
   ]
  },
  {
   "cell_type": "markdown",
   "id": "62a7726e-5ddd-48fb-b8e1-50f3ed1057f1",
   "metadata": {
    "jupyter": {
     "outputs_hidden": false
    },
    "pycharm": {
     "name": "#%%\n"
    }
   },
   "source": [
    "# Example 5 - Plot all-to-all communication kernels on ranks 0, 1, 2"
   ]
  },
  {
   "cell_type": "code",
   "execution_count": null,
   "id": "43ebccdd",
   "metadata": {
    "jupyter": {
     "outputs_hidden": false
    },
    "pycharm": {
     "name": "#%%\n"
    }
   },
   "outputs": [],
   "source": [
    "%%time\n",
    "s_map = pd.Series(symbol_table.get_sym_id_map())\n",
    "communicate_name_ids = s_map[\n",
    "    s_map.index.str.startswith(\"ncclKernel_ReduceScatter\")\n",
    "].values\n",
    "communicate_df = df.loc[df[\"name\"].isin(communicate_name_ids)]\n",
    "plot_timeline_gpu_kernels(\"All-to-All Communication Kernels on Ranks [0, 1, 2]\", communicate_df, symbol_table, ranks=[0, 1, 2], duration_threshold=2000)"
   ]
  }
 ],
 "metadata": {
  "kernelspec": {
   "display_name": "Python 3 (ipykernel)",
   "language": "python",
   "name": "python3"
  },
  "language_info": {
   "codemirror_mode": {
    "name": "ipython",
    "version": 3
   },
   "file_extension": ".py",
   "mimetype": "text/x-python",
   "name": "python",
   "nbconvert_exporter": "python",
   "pygments_lexer": "ipython3",
   "version": "3.10.8"
  }
 },
 "nbformat": 4,
 "nbformat_minor": 5
}
