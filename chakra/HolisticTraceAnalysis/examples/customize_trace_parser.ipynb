{
 "cells": [
  {
   "cell_type": "markdown",
   "source": [
    "# Overview\n",
    "\n",
    "This notebook illustrates how to customize the attributes parsed by the Trace Parser when writing analyzers using the `hta` library.\n",
    "\n",
    "Due to the extensive number of trace attributes included in the PyTorch traces, many trace analyzers may never make use of the complete set. To optimize memory usage when analyzing the traces of distributed training jobs, `hta` only retains a subset of these attributes. However, the default subset of attributes may not meet the needs of all trace analyzers. Rather than save all the attributes, `hta` allow users to configure which set of attributes to be saved into the trace dataframes.\n"
   ],
   "metadata": {
    "collapsed": false
   },
   "id": "bf437abd65137c5e"
  },
  {
   "cell_type": "markdown",
   "source": [
    "# The APIs for Trace Parser Customization\n",
    "\n",
    "The class `ParserConfig` provides the interface for customizing the trace parser's behavior. At current version, `hta` mainly supports configuring the set of argument attributes. However, the `ParserConfig` can be extended to support further customization when it is necessary."
   ],
   "metadata": {
    "collapsed": false
   },
   "id": "d3e0b97c5b6f10a"
  },
  {
   "cell_type": "markdown",
   "source": [
    "## The default configuration\n",
    "\n",
    "To be compatibility with existing trace analyzers, we use a global `ParserConfig` object to hold the default configuration. There are two class methods to access this global object:\n",
    "\n",
    "+ `ParserConfig.get_default_cfg()`\n",
    "+ `ParserConfig.set_default_cfg(cfg: ParserConfig)`\n",
    "\n",
    "If the default configuration already meets the needs of your trace analyzer, then there is no need for the analyzer's code to interact with any `ParserConfig`.\n",
    "\n",
    "In case an analyzer needs to add some new attributes, the analyzer needs to insert the following lines before the `Trace` objects are parsed.\n",
    "\n",
    "```\n",
    "from hta.configs.parser_config import ParserConfig, AVAILABLE_ARGS\n",
    "\n",
    "new_config = ParserConfig.get_default_cfg()\n",
    "new_config.add_args(ParserConfig.ARGS_INPUT_SHAPE + [AVAILABLE_ARGS[\"sm::occupancy\"]])\n",
    "ParserConfig.set_default_cfg(new_config)\n",
    "```"
   ],
   "metadata": {
    "collapsed": false
   },
   "id": "8051f50c6cefdb7d"
  },
  {
   "cell_type": "markdown",
   "source": [
    "# Examples"
   ],
   "metadata": {
    "collapsed": false
   },
   "id": "543744c9e076a854"
  },
  {
   "cell_type": "code",
   "execution_count": 1,
   "outputs": [],
   "source": [
    "from hta.configs.parser_config import ParserConfig\n",
    "from hta.configs.config import HtaConfig\n",
    "from hta.common.trace import Trace"
   ],
   "metadata": {
    "collapsed": false,
    "ExecuteTime": {
     "end_time": "2023-10-19T13:23:15.486341Z",
     "start_time": "2023-10-19T13:23:14.908906Z"
    }
   },
   "id": "54dc939919f0f1d4"
  },
  {
   "cell_type": "code",
   "execution_count": 2,
   "outputs": [
    {
     "name": "stdout",
     "output_type": "stream",
     "text": [
      "<class 'pandas.core.frame.DataFrame'>\n",
      "Index: 273916 entries, 0 to 393636\n",
      "Data columns (total 15 columns):\n",
      " #   Column                             Non-Null Count   Dtype  \n",
      "---  ------                             --------------   -----  \n",
      " 0   index                              273916 non-null  int32  \n",
      " 1   cat                                273916 non-null  int64  \n",
      " 2   name                               273916 non-null  int64  \n",
      " 3   pid                                273916 non-null  object \n",
      " 4   tid                                273916 non-null  object \n",
      " 5   ts                                 273916 non-null  int64  \n",
      " 6   dur                                273916 non-null  float64\n",
      " 7   stream                             273916 non-null  int8   \n",
      " 8   correlation                        273916 non-null  int32  \n",
      " 9   bytes                              273916 non-null  int32  \n",
      " 10  memory_bw_gbps                     273916 non-null  float64\n",
      " 11  wait_on_stream                     273916 non-null  int8   \n",
      " 12  wait_on_cuda_event_record_corr_id  273916 non-null  int8   \n",
      " 13  index_correlation                  273916 non-null  int32  \n",
      " 14  iteration                          273916 non-null  int8   \n",
      "dtypes: float64(2), int32(4), int64(3), int8(4), object(2)\n",
      "memory usage: 30.0+ MB\n"
     ]
    }
   ],
   "source": [
    "def check_trace(trace_dir: str):\n",
    "    t = Trace(trace_dir=trace_dir)\n",
    "    t.parse_traces(use_multiprocessing=False)\n",
    "    rank = next(iter(t.traces))\n",
    "    df = t.get_trace(rank)\n",
    "    df.info()\n",
    "\n",
    "# Select a trace folder\n",
    "test_trace_dir = HtaConfig.get_test_data_path(\"h100\")\n",
    "\n",
    "# Use the default configuration\n",
    "# ParserConfig.set_default_cfg(ParserConfig())\n",
    "check_trace(test_trace_dir)\n"
   ],
   "metadata": {
    "collapsed": false,
    "ExecuteTime": {
     "end_time": "2023-10-19T13:23:30.909556Z",
     "start_time": "2023-10-19T13:23:18.682653Z"
    }
   },
   "id": "d2f5093f4736353"
  },
  {
   "cell_type": "code",
   "execution_count": 3,
   "outputs": [
    {
     "name": "stdout",
     "output_type": "stream",
     "text": [
      "<class 'pandas.core.frame.DataFrame'>\n",
      "Index: 273916 entries, 0 to 393636\n",
      "Data columns (total 17 columns):\n",
      " #   Column                             Non-Null Count   Dtype  \n",
      "---  ------                             --------------   -----  \n",
      " 0   index                              273916 non-null  int32  \n",
      " 1   cat                                273916 non-null  int64  \n",
      " 2   name                               273916 non-null  int64  \n",
      " 3   pid                                273916 non-null  object \n",
      " 4   tid                                273916 non-null  object \n",
      " 5   ts                                 273916 non-null  int64  \n",
      " 6   dur                                273916 non-null  float64\n",
      " 7   stream                             273916 non-null  int8   \n",
      " 8   correlation                        273916 non-null  int32  \n",
      " 9   bytes                              273916 non-null  int32  \n",
      " 10  memory_bw_gbps                     273916 non-null  float64\n",
      " 11  wait_on_stream                     273916 non-null  int8   \n",
      " 12  wait_on_cuda_event_record_corr_id  273916 non-null  int8   \n",
      " 13  input_dims                         273916 non-null  object \n",
      " 14  input_type                         273916 non-null  object \n",
      " 15  index_correlation                  273916 non-null  int32  \n",
      " 16  iteration                          273916 non-null  int8   \n",
      "dtypes: float64(2), int32(4), int64(3), int8(4), object(4)\n",
      "memory usage: 34.2+ MB\n"
     ]
    }
   ],
   "source": [
    "# Add two input attributes\n",
    "cfg = ParserConfig.get_default_cfg()\n",
    "cfg.add_args(ParserConfig.ARGS_INPUT_SHAPE)\n",
    "ParserConfig.set_default_cfg(cfg)\n",
    "\n",
    "check_trace(test_trace_dir)"
   ],
   "metadata": {
    "collapsed": false,
    "ExecuteTime": {
     "end_time": "2023-10-19T13:23:58.619639Z",
     "start_time": "2023-10-19T13:23:46.149189Z"
    }
   },
   "id": "bb4562c9d2462552"
  },
  {
   "cell_type": "code",
   "execution_count": 8,
   "outputs": [],
   "source": [],
   "metadata": {
    "collapsed": false,
    "ExecuteTime": {
     "end_time": "2023-10-19T13:20:18.545992Z",
     "start_time": "2023-10-19T13:20:18.496061Z"
    }
   },
   "id": "d099e0ece854c467"
  }
 ],
 "metadata": {
  "kernelspec": {
   "display_name": "Python 3",
   "language": "python",
   "name": "python3"
  },
  "language_info": {
   "codemirror_mode": {
    "name": "ipython",
    "version": 2
   },
   "file_extension": ".py",
   "mimetype": "text/x-python",
   "name": "python",
   "nbconvert_exporter": "python",
   "pygments_lexer": "ipython2",
   "version": "2.7.6"
  }
 },
 "nbformat": 4,
 "nbformat_minor": 5
}
